{
 "cells": [
  {
   "cell_type": "code",
   "execution_count": 1,
   "id": "32120d9a-274d-48fa-9529-bdd0e1fc0a99",
   "metadata": {},
   "outputs": [],
   "source": [
    "a=1"
   ]
  },
  {
   "cell_type": "code",
   "execution_count": 3,
   "id": "9ad11458-5bbc-480e-84a2-25d46cf306d2",
   "metadata": {},
   "outputs": [
    {
     "name": "stdout",
     "output_type": "stream",
     "text": [
      "<class 'int'>\n"
     ]
    }
   ],
   "source": [
    "print(type(a))"
   ]
  },
  {
   "cell_type": "code",
   "execution_count": 4,
   "id": "05bc88c2-2797-4f40-a539-c187c47b6e54",
   "metadata": {},
   "outputs": [
    {
     "name": "stdout",
     "output_type": "stream",
     "text": [
      "<class 'str'>\n"
     ]
    }
   ],
   "source": [
    "print(type(\"pwskills\"))"
   ]
  },
  {
   "cell_type": "code",
   "execution_count": 5,
   "id": "e0f96040-9124-43f4-bd1b-c82e07491d75",
   "metadata": {},
   "outputs": [],
   "source": [
    "class test:\n",
    "    pass"
   ]
  },
  {
   "cell_type": "code",
   "execution_count": 6,
   "id": "563d5b9e-d64d-43bc-8939-055e59b69dbe",
   "metadata": {},
   "outputs": [],
   "source": [
    "a=test()"
   ]
  },
  {
   "cell_type": "code",
   "execution_count": 7,
   "id": "f40025dd-f1d5-434c-8597-eafb6ac882d6",
   "metadata": {},
   "outputs": [
    {
     "data": {
      "text/plain": [
       "__main__.test"
      ]
     },
     "execution_count": 7,
     "metadata": {},
     "output_type": "execute_result"
    }
   ],
   "source": [
    "type(a)"
   ]
  },
  {
   "cell_type": "code",
   "execution_count": 8,
   "id": "794f95ae-2407-45a7-ab05-644151a5cc47",
   "metadata": {},
   "outputs": [
    {
     "name": "stdout",
     "output_type": "stream",
     "text": [
      "<class '__main__.test'>\n"
     ]
    }
   ],
   "source": [
    "print(type(a))"
   ]
  },
  {
   "cell_type": "code",
   "execution_count": 9,
   "id": "79dcb465-27b3-4b68-a330-f3fd4a5474ae",
   "metadata": {},
   "outputs": [],
   "source": [
    "class pwskills:\n",
    "    \n",
    "    def welcome_msg(self):\n",
    "        print(\"welcome to pwskills\")"
   ]
  },
  {
   "cell_type": "code",
   "execution_count": 10,
   "id": "76a6b743-baa2-42b8-be5e-acb2228e5f25",
   "metadata": {},
   "outputs": [],
   "source": [
    "mohan = pwskills()"
   ]
  },
  {
   "cell_type": "code",
   "execution_count": 11,
   "id": "93d3e396-7ff2-4dd9-b4aa-92d5db2a97be",
   "metadata": {},
   "outputs": [
    {
     "name": "stdout",
     "output_type": "stream",
     "text": [
      "<class '__main__.pwskills'>\n"
     ]
    }
   ],
   "source": [
    "print(type(mohan))"
   ]
  },
  {
   "cell_type": "code",
   "execution_count": 13,
   "id": "2009b2b3-0246-4980-a3fe-6989e830d58f",
   "metadata": {},
   "outputs": [
    {
     "name": "stdout",
     "output_type": "stream",
     "text": [
      "welcome to pwskills\n"
     ]
    }
   ],
   "source": [
    "mohan.welcome_msg()"
   ]
  },
  {
   "cell_type": "code",
   "execution_count": 14,
   "id": "5666d5f7-b39a-486b-aabe-f870cd48dbd2",
   "metadata": {},
   "outputs": [],
   "source": [
    "gaurav = pwskills()"
   ]
  },
  {
   "cell_type": "code",
   "execution_count": 15,
   "id": "cfed156a-90eb-4995-8206-b91b7b969e77",
   "metadata": {},
   "outputs": [
    {
     "name": "stdout",
     "output_type": "stream",
     "text": [
      "welcome to pwskills\n"
     ]
    }
   ],
   "source": [
    "gaurav.welcome_msg()"
   ]
  },
  {
   "cell_type": "code",
   "execution_count": 21,
   "id": "d1f46e20-31c5-461f-a13a-850e8d9840c4",
   "metadata": {},
   "outputs": [],
   "source": [
    "class pwskills:\n",
    "    \n",
    "    def __init__(self,phone_number,email_id,student_id):\n",
    "        self.phone_number = phone_number\n",
    "        self.email_id = email_id\n",
    "        self.student_id = student_id\n",
    "    def return_student_details(self):\n",
    "        return self.student_id, self.phone_number,self.email_id"
   ]
  },
  {
   "cell_type": "code",
   "execution_count": 27,
   "id": "5d72ce23-a1bb-415a-bddb-bcb3cbeb4a52",
   "metadata": {},
   "outputs": [
    {
     "ename": "TypeError",
     "evalue": "pwskills.__init__() missing 3 required positional arguments: 'phone_number', 'email_id', and 'student_id'",
     "output_type": "error",
     "traceback": [
      "\u001b[0;31m---------------------------------------------------------------------------\u001b[0m",
      "\u001b[0;31mTypeError\u001b[0m                                 Traceback (most recent call last)",
      "Cell \u001b[0;32mIn[27], line 1\u001b[0m\n\u001b[0;32m----> 1\u001b[0m rohan \u001b[38;5;241m=\u001b[39m \u001b[43mpwskills\u001b[49m\u001b[43m(\u001b[49m\u001b[43m)\u001b[49m\n",
      "\u001b[0;31mTypeError\u001b[0m: pwskills.__init__() missing 3 required positional arguments: 'phone_number', 'email_id', and 'student_id'"
     ]
    }
   ],
   "source": [
    "rohan = pwskills()"
   ]
  },
  {
   "cell_type": "code",
   "execution_count": 29,
   "id": "771291b9-d3b7-48e0-9b53-3b7ada6f75b0",
   "metadata": {},
   "outputs": [],
   "source": [
    "rohan = pwskills(1222324342,\"rohan@gmail.com\",101)"
   ]
  },
  {
   "cell_type": "code",
   "execution_count": 30,
   "id": "d6d9c42e-c348-476c-9564-1efad9451fc5",
   "metadata": {},
   "outputs": [
    {
     "data": {
      "text/plain": [
       "(101, 1222324342, 'rohan@gmail.com')"
      ]
     },
     "execution_count": 30,
     "metadata": {},
     "output_type": "execute_result"
    }
   ],
   "source": [
    "rohan.return_student_details()"
   ]
  },
  {
   "cell_type": "code",
   "execution_count": 31,
   "id": "fbf4977f-d333-4b37-9fc6-679884213629",
   "metadata": {},
   "outputs": [],
   "source": [
    "gaurav = pwskills(98797867678,\"gaurav@gmail.com\",102)"
   ]
  },
  {
   "cell_type": "code",
   "execution_count": 33,
   "id": "8bef8e5f-65d5-49a1-8b61-20754ea982af",
   "metadata": {},
   "outputs": [
    {
     "data": {
      "text/plain": [
       "(102, 98797867678, 'gaurav@gmail.com')"
      ]
     },
     "execution_count": 33,
     "metadata": {},
     "output_type": "execute_result"
    }
   ],
   "source": [
    "gaurav.return_student_details()"
   ]
  },
  {
   "cell_type": "code",
   "execution_count": 36,
   "id": "a6e4fa0d-2aa3-4472-bbf4-8d2ed68c08dd",
   "metadata": {},
   "outputs": [],
   "source": [
    "class pwskills1:\n",
    "    def __init__(self,phone_number1,email_id1,student_id1):\n",
    "        self.phone_number1 = phone_number1\n",
    "        self.email_id1 = email_id1\n",
    "        self.student_id1 = student_id1\n",
    "    def return_student_details(self):\n",
    "        return self.student_id, self.phone_number1,self.email_id1"
   ]
  },
  {
   "cell_type": "code",
   "execution_count": 45,
   "id": "7c16cd89-b1fd-4525-8990-dbfbfb419e71",
   "metadata": {},
   "outputs": [],
   "source": [
    "sudh = pwskills(999954355,\"sudh@gmail.com\",102)"
   ]
  },
  {
   "cell_type": "code",
   "execution_count": 46,
   "id": "e8dae7c3-8652-451f-9d93-2caf7b791013",
   "metadata": {},
   "outputs": [
    {
     "data": {
      "text/plain": [
       "<__main__.pwskills at 0x7f0c78706530>"
      ]
     },
     "execution_count": 46,
     "metadata": {},
     "output_type": "execute_result"
    }
   ],
   "source": [
    "sudh"
   ]
  },
  {
   "cell_type": "code",
   "execution_count": 47,
   "id": "93348505-1d3b-47b7-8470-152c899d3a06",
   "metadata": {},
   "outputs": [
    {
     "data": {
      "text/plain": [
       "999954355"
      ]
     },
     "execution_count": 47,
     "metadata": {},
     "output_type": "execute_result"
    }
   ],
   "source": [
    "sudh.phone_number"
   ]
  },
  {
   "cell_type": "code",
   "execution_count": 49,
   "id": "849396e3-4d5c-4f08-93f7-e6c8ddab76f6",
   "metadata": {},
   "outputs": [
    {
     "data": {
      "text/plain": [
       "'sudh@gmail.com'"
      ]
     },
     "execution_count": 49,
     "metadata": {},
     "output_type": "execute_result"
    }
   ],
   "source": [
    "sudh.email_id"
   ]
  },
  {
   "cell_type": "code",
   "execution_count": 50,
   "id": "1b89dab1-86ee-4201-a9fd-d653b900ef97",
   "metadata": {},
   "outputs": [
    {
     "data": {
      "text/plain": [
       "102"
      ]
     },
     "execution_count": 50,
     "metadata": {},
     "output_type": "execute_result"
    }
   ],
   "source": [
    "sudh.student_id"
   ]
  },
  {
   "cell_type": "code",
   "execution_count": 51,
   "id": "34d3830e-955f-4dcd-a176-33e30533e4d5",
   "metadata": {},
   "outputs": [
    {
     "data": {
      "text/plain": [
       "(102, 999954355, 'sudh@gmail.com')"
      ]
     },
     "execution_count": 51,
     "metadata": {},
     "output_type": "execute_result"
    }
   ],
   "source": [
    "sudh.return_student_details()"
   ]
  },
  {
   "cell_type": "code",
   "execution_count": 52,
   "id": "8346acfc-1df3-4cfa-b54d-c0ed0f10d1d6",
   "metadata": {},
   "outputs": [],
   "source": [
    "class pwskills2:\n",
    "    def __init__(self,phone_number1,email_id1,student_id1):\n",
    "        self.phone_number1 = phone_number1\n",
    "        self.email_id1 = email_id1\n",
    "        self.student_id1 = student_id1\n",
    "    def return_student_details(self):\n",
    "        return self.student_id, self.phone_number1,self.email_id1"
   ]
  },
  {
   "cell_type": "code",
   "execution_count": 53,
   "id": "e4213e48-a191-42ab-b20a-292e95c21e34",
   "metadata": {},
   "outputs": [],
   "source": [
    "rohan = pwskills2(345365,\"rohan@gmail.com\",324)"
   ]
  },
  {
   "cell_type": "code",
   "execution_count": 55,
   "id": "b362ecc4-41c3-4a5c-9907-59a2c19d68de",
   "metadata": {},
   "outputs": [
    {
     "data": {
      "text/plain": [
       "345365"
      ]
     },
     "execution_count": 55,
     "metadata": {},
     "output_type": "execute_result"
    }
   ],
   "source": [
    "rohan.phone_number1"
   ]
  },
  {
   "cell_type": "code",
   "execution_count": null,
   "id": "566b4c38-04e3-4d36-aa3a-0774a4c325b9",
   "metadata": {},
   "outputs": [],
   "source": []
  }
 ],
 "metadata": {
  "kernelspec": {
   "display_name": "Python 3 (ipykernel)",
   "language": "python",
   "name": "python3"
  },
  "language_info": {
   "codemirror_mode": {
    "name": "ipython",
    "version": 3
   },
   "file_extension": ".py",
   "mimetype": "text/x-python",
   "name": "python",
   "nbconvert_exporter": "python",
   "pygments_lexer": "ipython3",
   "version": "3.10.8"
  }
 },
 "nbformat": 4,
 "nbformat_minor": 5
}
